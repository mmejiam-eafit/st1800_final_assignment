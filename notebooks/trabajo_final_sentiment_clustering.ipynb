{
 "cells": [
  {
   "cell_type": "code",
   "execution_count": 1,
   "metadata": {},
   "outputs": [],
   "source": [
    "import pyspark as ps\n",
    "import warnings\n",
    "from pyspark.sql import SQLContext\n",
    "\n",
    "from pyspark.ml.feature import HashingTF, IDF, Tokenizer\n",
    "from pyspark.ml.feature import StringIndexer\n",
    "from pyspark.ml import Pipeline\n",
    "from pyspark.ml.classification import LogisticRegression\n",
    "from pyspark.ml.evaluation import BinaryClassificationEvaluator"
   ]
  },
  {
   "cell_type": "code",
   "execution_count": 2,
   "metadata": {},
   "outputs": [
    {
     "name": "stdout",
     "output_type": "stream",
     "text": [
      "Just created a SparkContext\n"
     ]
    }
   ],
   "source": [
    "try:\n",
    "    # create SparkContext on all CPUs available: in my case I have 1 CPUs on my laptop\n",
    "    # https://towardsdatascience.com/sentiment-analysis-with-pyspark-bc8e83f80c35\n",
    "    conf = ps.SparkConf().setAppName(\"App\")\n",
    "    conf = (conf.setMaster('local[*]')\n",
    "        .set('spark.executor.memory', '16G')\n",
    "        .set('spark.driver.memory', '8G')\n",
    "        .set('spark.driver.maxResultSize', '1 G'))\n",
    "    sc = ps.SparkContext(conf=conf)\n",
    "    sqlContext = SQLContext(sc)\n",
    "    print(\"Just created a SparkContext\")\n",
    "except ValueError:\n",
    "    warnings.warn(\"SparkContext already exists in this scope\")"
   ]
  },
  {
   "cell_type": "code",
   "execution_count": 3,
   "metadata": {},
   "outputs": [
    {
     "data": {
      "text/plain": [
       "pyspark.sql.dataframe.DataFrame"
      ]
     },
     "execution_count": 3,
     "metadata": {},
     "output_type": "execute_result"
    }
   ],
   "source": [
    "df = sqlContext.read.format('com.databricks.spark.csv').options(header='true', inferschema='true').load('../datasets/news.csv')\n",
    "type(df)"
   ]
  },
  {
   "cell_type": "code",
   "execution_count": 4,
   "metadata": {},
   "outputs": [
    {
     "name": "stdout",
     "output_type": "stream",
     "text": [
      "+---+-------+--------------------+--------------+--------------------+----------+------+-----+----+--------------------+\n",
      "| id|id_news|               title|   publication|              author|      date|  year|month| url|             content|\n",
      "+---+-------+--------------------+--------------+--------------------+----------+------+-----+----+--------------------+\n",
      "|  0|  17283|House Republicans...|New York Times|          Carl Hulse|2016-12-31|2016.0| 12.0|null|WASHINGTON  —   C...|\n",
      "|  1|  17284|Rift Between Offi...|New York Times|Benjamin Mueller ...|2017-06-19|2017.0|  6.0|null|After the bullet ...|\n",
      "|  2|  17285|Tyrus Wong, ‘Bamb...|New York Times|        Margalit Fox|2017-01-06|2017.0|  1.0|null|When Walt Disney’...|\n",
      "|  3|  17286|Among Deaths in 2...|New York Times|    William McDonald|2017-04-10|2017.0|  4.0|null|Death may be the ...|\n",
      "|  4|  17287|Kim Jong-un Says ...|New York Times|       Choe Sang-Hun|2017-01-02|2017.0|  1.0|null|SEOUL, South Kore...|\n",
      "|  5|  17288|Sick With a Cold,...|New York Times|         Sewell Chan|2017-01-02|2017.0|  1.0|null|LONDON  —   Queen...|\n",
      "|  6|  17289|Taiwan’s Presiden...|New York Times| Javier C. Hernández|2017-01-02|2017.0|  1.0|null|BEIJING  —   Pres...|\n",
      "|  7|  17290|After ‘The Bigges...|New York Times|         Gina Kolata|2017-02-08|2017.0|  2.0|null|Danny Cahill stoo...|\n",
      "|  8|  17291|First, a Mixtape....|New York Times|    Katherine Rosman|2016-12-31|2016.0| 12.0|null|Just how   is Hil...|\n",
      "|  9|  17292|Calling on Angels...|New York Times|         Andy Newman|2016-12-31|2016.0| 12.0|null|Angels are everyw...|\n",
      "| 10|  17293|Weak Federal Powe...|New York Times|       Justin Gillis|2017-01-03|2017.0|  1.0|null|With Donald J. Tr...|\n",
      "| 11|  17294|Can Carbon Captur...|New York Times|       John Schwartz|2017-01-05|2017.0|  1.0|null|THOMPSONS, Tex.  ...|\n",
      "| 12|  17295|Mar-a-Lago, the F...|New York Times|     Maggie Haberman|2017-01-02|2017.0|  1.0|null|WEST PALM BEACH, ...|\n",
      "| 13|  17296|How to form healt...|New York Times|      Charles Duhigg|2017-01-02|2017.0|  1.0|null|This article is p...|\n",
      "| 14|  17297|Turning Your Vaca...|New York Times|Stephanie Rosenbloom|2017-04-14|2017.0|  4.0|null|It’s the season f...|\n",
      "| 15|  17298|As Second Avenue ...|New York Times| Emma G. Fitzsimmons|2017-01-02|2017.0|  1.0|null|Finally. The Seco...|\n",
      "| 16|  17300|Dylann Roof Himse...|New York Times|Kevin Sack and Al...|2017-01-02|2017.0|  1.0|null|  pages into the ...|\n",
      "| 17|  17301|Modi’s Cash Ban B...|New York Times|         Geeta Anand|2017-01-02|2017.0|  1.0|null|MUMBAI, India  — ...|\n",
      "| 18|  17302|Suicide Bombing i...|New York Times|The Associated Press|2017-01-03|2017.0|  1.0|null|BAGHDAD  —   A su...|\n",
      "| 19|  17303|Fecal Pollution T...|New York Times|          Brett Cole|2017-01-03|2017.0|  1.0|null|SYDNEY, Australia...|\n",
      "| 20|  17305|N.F.L. Playoffs: ...|New York Times|    Benjamin Hoffman|2017-01-03|2017.0|  1.0|null|When the Green Ba...|\n",
      "| 21|  17306|Mariah Carey’s Ma...|New York Times|       Patrick Healy|2017-01-02|2017.0|  1.0|null|Mariah Carey suff...|\n",
      "| 22|  17307|Damaged by War, S...|New York Times|      Marlise Simons|2017-01-01|2017.0|  1.0|null|PARIS  —   When t...|\n",
      "| 23|  17308|George Michael’s ...|New York Times|Guy Trebay and Ja...|2017-01-01|2017.0|  1.0|null|Pop music and fas...|\n",
      "| 24|  17309|With New Congress...|New York Times| Jennifer Steinhauer|2017-01-02|2017.0|  1.0|null|WASHINGTON  —   T...|\n",
      "| 25|  17311|Republicans Stone...|New York Times|          Carl Hulse|2017-01-03|2017.0|  1.0|null|WASHINGTON  —   I...|\n",
      "| 26|  17312|Istanbul, Donald ...|New York Times|    Charles McDermid|2017-01-03|2017.0|  1.0|null|Good morning.  He...|\n",
      "| 27|  17313|Inside Trump Defe...|New York Times|Sheri Fink and He...|2017-01-05|2017.0|  1.0|null|The body of the I...|\n",
      "| 28|  17314|ISIS Claims Respo...|New York Times|          Tim Arango|2017-01-03|2017.0|  1.0|null|ISTANBUL  —   The...|\n",
      "| 29|  17317|The Afghan War an...|New York Times|        Mark Landler|2017-01-17|2017.0|  1.0|null|WASHINGTON  —   P...|\n",
      "| 30|  17318|Tips for Your Pos...|New York Times|    Michelle Higgins|2017-04-11|2017.0|  4.0|null|With the year win...|\n",
      "| 31|  17319|Benjamin Netanyah...|New York Times|     Isabel Kershner|2017-01-03|2017.0|  1.0|null|JERUSALEM  —   Is...|\n",
      "| 32|  17321|France Lets Worke...|New York Times|     Alissa J. Rubin|2017-01-03|2017.0|  1.0|null|PARIS  —   If the...|\n",
      "| 33|  17323|Airline Pilot, Be...|New York Times|          Ian Austen|2017-01-03|2017.0|  1.0|null|OTTAWA  —   It wa...|\n",
      "| 34|  17324|Riot by Drug Gang...|New York Times|        Simon Romero|2017-01-16|2017.0|  1.0|null|RIO DE JANEIRO  —...|\n",
      "| 35|  17325|SpaceX Says It’s ...|New York Times|       Kenneth Chang|2017-01-02|2017.0|  1.0|null|After the explosi...|\n",
      "| 36|  17326|A ‘World Unto Its...|New York Times|     Corey Kilgannon|2017-03-13|2017.0|  3.0|null|In the basement o...|\n",
      "| 37|  17327|Inside Jonathan L...|New York Times| Jennifer Schuessler|2017-01-02|2017.0|  1.0|null|Writers are diffe...|\n",
      "| 38|  17328|An Immigrant’s In...|New York Times|           John Otis|2017-01-02|2017.0|  1.0|null|In 2007, Rey Canu...|\n",
      "| 39|  17330|House Republicans...|New York Times|Eric Lipton and M...|2017-01-04|2017.0|  1.0|null|WASHINGTON  —   I...|\n",
      "| 40|  17331|Republican Party,...|New York Times|         Sean Alfano|2017-01-04|2017.0|  1.0|null| (Want to get thi...|\n",
      "| 41|  17332|Turmoil Overshado...|New York Times|Jennifer Steinhau...|2017-01-04|2017.0|  1.0|null|WASHINGTON  —   T...|\n",
      "| 42|  17333|With Choice of Tr...|New York Times|  Binyamin Appelbaum|2017-01-04|2017.0|  1.0|null|WASHINGTON  —    ...|\n",
      "| 43|  17334|Trump Appears to ...|New York Times|Scott Shane, Magg...|2017-01-05|2017.0|  1.0|null|■   Donald J. Tru...|\n",
      "| 44|  17335|California Hires ...|New York Times|      Adam Nagourney|2017-01-05|2017.0|  1.0|null|LOS ANGELES  —   ...|\n",
      "| 45|  17336|Israeli Soldier W...|New York Times|     Isabel Kershner|2017-01-05|2017.0|  1.0|null|JERUSALEM  —   Th...|\n",
      "| 46|  17337|Work. Walk 5 Minu...|New York Times|   Gretchen Reynolds|2017-01-09|2017.0|  1.0|null|Stuck at your wor...|\n",
      "| 47|  17338|It’s Time to Igno...|New York Times|        Damon Darlin|2017-01-09|2017.0|  1.0|null|It’s that time of...|\n",
      "| 48|  17339|Megyn Kelly’s Jum...|New York Times|       Jim Rutenberg|2017-01-05|2017.0|  1.0|null|For Megyn Kelly, ...|\n",
      "| 49|  17340|Anchor Becomes th...|New York Times|John Koblin and M...|2017-01-04|2017.0|  1.0|null|Megyn Kelly’s new...|\n",
      "| 50|  17341|President Xi’s Gr...|New York Times|       Chris Buckley|2017-02-01|2017.0|  2.0|null|QINGYUAN, China  ...|\n",
      "| 51|  17342|Tech Giants Seem ...|New York Times|       Farhad Manjoo|2017-01-05|2017.0|  1.0|null|In the technology...|\n",
      "| 52|  17344|Chinese City Offi...|New York Times|Chris Buckley and...|2017-01-05|2017.0|  1.0|null|BEIJING  —   A ci...|\n",
      "| 53|  17345|Drop in Gang Viol...|New York Times|Benjamin Mueller ...|2017-01-04|2017.0|  1.0|null|A steep drop in g...|\n",
      "| 54|  17346|How ‘Elites’ Beca...|New York Times|        Beverly Gage|2017-01-07|2017.0|  1.0|null|Our new president...|\n",
      "| 55|  17347|10 Engaging Propo...|New York Times| Vincent M. Mallozzi|2017-01-07|2017.0|  1.0|null|“Will you marry m...|\n",
      "| 56|  17348|For a Mother With...|New York Times|         John Grippe|2017-01-04|2017.0|  1.0|null|Alicia Rivera, a ...|\n",
      "| 57|  17349|Senate Republican...|New York Times|Thomas Kaplan and...|2017-01-05|2017.0|  1.0|null|WASHINGTON  —   C...|\n",
      "| 58|  17350|The Parliamentary...|New York Times|         Robert Pear|2017-01-05|2017.0|  1.0|null|WASHINGTON  —   R...|\n",
      "| 59|  17352|In Republicans’ E...|New York Times|          Carl Hulse|2017-01-05|2017.0|  1.0|null|WASHINGTON  —   M...|\n",
      "| 60|  17353|Ivanka Trump’s Ne...|New York Times|Julie Hirschfeld ...|2017-01-23|2017.0|  1.0|null|WASHINGTON  —   I...|\n",
      "| 61|  17354|Donald Trump Nomi...|New York Times|       Leslie Picker|2017-01-05|2017.0|  1.0|null|The Wall Street l...|\n",
      "| 62|  17355|Dylann Roof, Addr...|New York Times|Alan Blinder and ...|2017-01-06|2017.0|  1.0|null|CHARLESTON, S. C....|\n",
      "| 63|  17356|In Turkey, U.S. H...|New York Times|          Tim Arango|2017-01-05|2017.0|  1.0|null|ISTANBUL  —   Tur...|\n",
      "| 64|  17358|A New Casualty of...|New York Times|         Ben Hubbard|2017-01-05|2017.0|  1.0|null|BEIRUT, Lebanon  ...|\n",
      "| 65|  17360|My Canada - The N...|New York Times|                null|2017-01-11|2017.0|  1.0|null|Canada, our No. 1...|\n",
      "| 66|  17361|How We Put Togeth...|New York Times|                null|2017-01-15|2017.0|  1.0|null|For the 12th stra...|\n",
      "| 67|  17362|Places to Put You...|New York Times|        Shivani Vora|2017-01-07|2017.0|  1.0|null|Whether the music...|\n",
      "| 68|  17363|Getting Around by...|New York Times|       Elaine Glusac|2017-01-05|2017.0|  1.0|null|Whether by train,...|\n",
      "| 69|  17364|5 Must-See Shows ...|New York Times|   Charles Isherwood|2017-01-25|2017.0|  1.0|null|Broadway shows of...|\n",
      "| 70|  17365|Remaking Kennedy ...|New York Times|    Patrick McGeehan|2017-01-05|2017.0|  1.0|null|Gov. Andrew M. Cu...|\n",
      "| 71|  17366|Cyberwar for Sale...|New York Times| Mattathias Schwartz|2017-01-22|2017.0|  1.0|null|On the morning of...|\n",
      "| 72|  17367|Why Men Don’t Wan...|New York Times|  Claire Cain Miller|2017-01-05|2017.0|  1.0|null|It hasn’t been a ...|\n",
      "| 73|  17368|Apple Removes New...|New York Times|Katie Benner and ...|2017-01-05|2017.0|  1.0|null|Apple, complying ...|\n",
      "| 74|  17369|Fed Officials See...|New York Times|  Binyamin Appelbaum|2017-01-05|2017.0|  1.0|null|WASHINGTON  —   F...|\n",
      "| 75|  17370|Rockefeller Found...|New York Times|        David Gelles|2017-01-10|2017.0|  1.0|null|Rajiv J. Shah, a ...|\n",
      "| 76|  17371|Philippines Jailb...|New York Times|     Felipe Villamor|2017-01-05|2017.0|  1.0|null|MANILA  —   A man...|\n",
      "| 77|  17373|Enough With the T...|New York Times|       Chris Buckley|2017-01-05|2017.0|  1.0|null|BEIJING  —   Chin...|\n",
      "| 78|  17374|Coming to Carniva...|New York Times|       Brooks Barnes|2017-01-04|2017.0|  1.0|null|DORAL, Fla.  —   ...|\n",
      "| 79|  17376|2 Credit-Reportin...|New York Times|             Reuters|2017-01-03|2017.0|  1.0|null|The nation’s cons...|\n",
      "| 80|  17378|Coal Fire, Not Ju...|New York Times|        Dan Bilefsky|2017-01-04|2017.0|  1.0|null|LONDON  —   Maybe...|\n",
      "| 81|  17379|Chase Sapphire Re...|New York Times|          Ron Lieber|2017-01-23|2017.0|  1.0|null|When a Wall Stree...|\n",
      "| 82|  17381|Broadway Breaks M...|New York Times|     Michael Paulson|2017-01-05|2017.0|  1.0|null|Broadway rang out...|\n",
      "| 83|  17382|Italian Inmates S...|New York Times|     Gaia Pianigiani|2017-01-25|2017.0|  1.0|null|LECCE, Italy  —  ...|\n",
      "| 84|  17383|The 2017 Class Di...|New York Times|    James Poniewozik|2017-01-04|2017.0|  1.0|null|In the first epis...|\n",
      "| 85|  17384|Michael Eric Dyso...|New York Times|       Ana Marie Cox|2017-01-07|2017.0|  1.0|null|Your forthcoming ...|\n",
      "| 86|  17385|For Sale: Condé N...|New York Times|     Laura M. Holson|2017-01-05|2017.0|  1.0|null|Condé Nast Public...|\n",
      "| 87|  17386|Countering Trump,...|New York Times|Matt Flegenheimer...|2017-01-06|2017.0|  1.0|null|WASHINGTON  —   A...|\n",
      "| 88|  17387|Dan Coats, the ‘M...|New York Times|Jennifer Steinhau...|2017-01-06|2017.0|  1.0|null|WASHINGTON  —    ...|\n",
      "| 89|  17388|The Perfect Weapo...|New York Times|Eric Lipton, Davi...|2017-04-10|2017.0|  4.0|null|WASHINGTON  —   W...|\n",
      "| 90|  17389|Trump Said ‘Tortu...|New York Times|James Risen and S...|2017-01-06|2017.0|  1.0|null|When the United N...|\n",
      "| 91|  17390|Republicans’ 4-St...|New York Times|         Robert Pear|2017-01-06|2017.0|  1.0|null|WASHINGTON  —   V...|\n",
      "| 92|  17391|In Break With Pre...|New York Times|Julie Hirschfeld ...|2017-01-06|2017.0|  1.0|null|WASHINGTON  —    ...|\n",
      "| 93|  17392|Trump Takes on De...|New York Times|Julie Hirschfeld ...|2017-01-06|2017.0|  1.0|null|WASHINGTON  —    ...|\n",
      "| 94|  17393|Ending Speculatio...|New York Times|     Richard Fausset|2017-01-06|2017.0|  1.0|null|TALLADEGA, Ala.  ...|\n",
      "| 95|  17394|Corzine Reaches $...|New York Times|         Ben Protess|2017-01-06|2017.0|  1.0|null|After more than f...|\n",
      "| 96|  17395|Sears Agrees to S...|New York Times|Michael J. de la ...|2017-01-06|2017.0|  1.0|null|The question from...|\n",
      "| 97|  17396|L.I.R.R. Train Th...|New York Times| Emma G. Fitzsimmons|2017-01-06|2017.0|  1.0|null|A Long Island Rai...|\n",
      "| 98|  17397|Record 2016 for U...|New York Times|         Bill Vlasic|2017-01-05|2017.0|  1.0|null|DETROIT  —   Unex...|\n",
      "| 99|  17398|Macy’s Will Cut 1...|New York Times|    Christopher Mele|2017-01-04|2017.0|  1.0|null|Struggling with s...|\n",
      "+---+-------+--------------------+--------------+--------------------+----------+------+-----+----+--------------------+\n",
      "only showing top 100 rows\n",
      "\n"
     ]
    }
   ],
   "source": [
    "df.show(100)"
   ]
  },
  {
   "cell_type": "code",
   "execution_count": 5,
   "metadata": {},
   "outputs": [
    {
     "data": {
      "text/plain": [
       "185186"
      ]
     },
     "execution_count": 5,
     "metadata": {},
     "output_type": "execute_result"
    }
   ],
   "source": [
    "df.count()"
   ]
  },
  {
   "cell_type": "code",
   "execution_count": 6,
   "metadata": {},
   "outputs": [
    {
     "data": {
      "text/plain": [
       "79911"
      ]
     },
     "execution_count": 6,
     "metadata": {},
     "output_type": "execute_result"
    }
   ],
   "source": [
    "df = df.dropna()\n",
    "df.count()"
   ]
  },
  {
   "cell_type": "code",
   "execution_count": 7,
   "metadata": {},
   "outputs": [],
   "source": [
    "(train_set, val_set, test_set) = df.randomSplit([0.7, 0.2, 0.1], seed = 2000)"
   ]
  },
  {
   "cell_type": "code",
   "execution_count": 8,
   "metadata": {
    "scrolled": true
   },
   "outputs": [
    {
     "name": "stdout",
     "output_type": "stream",
     "text": [
      "+--------------------+--------------------+--------------------+--------------------+--------------------+--------------------+--------------------+--------------------+--------------------+--------------------+--------------------+--------------------+--------------------+-------+\n",
      "|                  id|             id_news|               title|         publication|              author|                date|                year|               month|                 url|             content|               words|                  tf|            features|  label|\n",
      "+--------------------+--------------------+--------------------+--------------------+--------------------+--------------------+--------------------+--------------------+--------------------+--------------------+--------------------+--------------------+--------------------+-------+\n",
      "| hateful rhetoric...|                2017|  We are a single...| we are an ocean#...|  —   Bianca I. M...|                2017|  Twitter users w...| with only a coup...| with the vast ma...| above the averag...|[, above, the, av...|(65536,[1684,1846...|(65536,[1684,1846...|15978.0|\n",
      "|\",Atlantic,Chris ...| drop us a note a...| but I’ve lead su...| but there are to...| wait for the ali...|               “Same| but SKELETONS in...| 000 cats. ” Upda...|          all in all| would be a prett...|[, would, be, a, ...|(65536,[2647,3331...|(65536,[2647,3331...| 9899.0|\n",
      "|\",Atlantic,Chris ...| please send us a...| but my favorite ...| Country Roads” y...|” with a great Jo...| early producer a...|” interpolating h...| but I haven’t fo...| with a beautiful...| covering artists...|[, covering, arti...|(65536,[5795,8525...|(65536,[5795,8525...|16452.0|\n",
      "|\",Atlantic,Chris ...| please send us a...| and we’d like to...| and we’ve heard ...| The Art of Waiti...|” as Julie put it...| of treatments an...| of giving up and...| of the jealousy ...| of nightly shots...|[, of, nightly, s...|(65536,[2136,8436...|(65536,[2136,8436...| 5382.0|\n",
      "|\",Atlantic,Chris ...| please send us a...| this is much mor...| he’s had tests d...| but that hasn’t ...| nor my friends’....| but it’s very si...| but we’ve heard ...| and feeling out ...| one of our reade...|[, one, of, our, ...|(65536,[4061,9616...|(65536,[4061,9616...| 6943.0|\n",
      "+--------------------+--------------------+--------------------+--------------------+--------------------+--------------------+--------------------+--------------------+--------------------+--------------------+--------------------+--------------------+--------------------+-------+\n",
      "only showing top 5 rows\n",
      "\n"
     ]
    }
   ],
   "source": [
    "tokenizer = Tokenizer(inputCol=\"content\", outputCol=\"words\")\n",
    "hashtf = HashingTF(numFeatures=2**16, inputCol=\"words\", outputCol='tf')\n",
    "idf = IDF(inputCol='tf', outputCol=\"features\", minDocFreq=5) #minDocFreq: remove sparse terms\n",
    "label_stringIdx = StringIndexer(inputCol = \"publication\", outputCol = \"label\")\n",
    "pipeline = Pipeline(stages=[tokenizer, hashtf, idf, label_stringIdx])\n",
    "\n",
    "pipelineFit = pipeline.fit(train_set)\n",
    "train_df = pipelineFit.transform(train_set)\n",
    "val_df = pipelineFit.transform(val_set)\n",
    "train_df.show(5)"
   ]
  },
  {
   "cell_type": "code",
   "execution_count": 9,
   "metadata": {},
   "outputs": [
    {
     "ename": "Py4JJavaError",
     "evalue": "An error occurred while calling o269.fit.\n: java.lang.OutOfMemoryError: Java heap space\r\n\tat org.apache.spark.ml.linalg.DenseMatrix$.zeros(Matrices.scala:492)\r\n\tat org.apache.spark.ml.linalg.Matrices$.zeros(Matrices.scala:1067)\r\n\tat org.apache.spark.ml.classification.LogisticRegression$$anonfun$train$1.apply(LogisticRegression.scala:706)\r\n\tat org.apache.spark.ml.classification.LogisticRegression$$anonfun$train$1.apply(LogisticRegression.scala:494)\r\n\tat org.apache.spark.ml.util.Instrumentation$$anonfun$11.apply(Instrumentation.scala:183)\r\n\tat scala.util.Try$.apply(Try.scala:192)\r\n\tat org.apache.spark.ml.util.Instrumentation$.instrumented(Instrumentation.scala:183)\r\n\tat org.apache.spark.ml.classification.LogisticRegression.train(LogisticRegression.scala:494)\r\n\tat org.apache.spark.ml.classification.LogisticRegression.train(LogisticRegression.scala:489)\r\n\tat org.apache.spark.ml.classification.LogisticRegression.train(LogisticRegression.scala:279)\r\n\tat org.apache.spark.ml.Predictor.fit(Predictor.scala:118)\r\n\tat org.apache.spark.ml.Predictor.fit(Predictor.scala:82)\r\n\tat sun.reflect.NativeMethodAccessorImpl.invoke0(Native Method)\r\n\tat sun.reflect.NativeMethodAccessorImpl.invoke(NativeMethodAccessorImpl.java:62)\r\n\tat sun.reflect.DelegatingMethodAccessorImpl.invoke(DelegatingMethodAccessorImpl.java:43)\r\n\tat java.lang.reflect.Method.invoke(Method.java:498)\r\n\tat py4j.reflection.MethodInvoker.invoke(MethodInvoker.java:244)\r\n\tat py4j.reflection.ReflectionEngine.invoke(ReflectionEngine.java:357)\r\n\tat py4j.Gateway.invoke(Gateway.java:282)\r\n\tat py4j.commands.AbstractCommand.invokeMethod(AbstractCommand.java:132)\r\n\tat py4j.commands.CallCommand.execute(CallCommand.java:79)\r\n\tat py4j.GatewayConnection.run(GatewayConnection.java:238)\r\n\tat java.lang.Thread.run(Thread.java:748)\r\n",
     "output_type": "error",
     "traceback": [
      "\u001b[1;31m---------------------------------------------------------------------------\u001b[0m",
      "\u001b[1;31mPy4JJavaError\u001b[0m                             Traceback (most recent call last)",
      "\u001b[1;32m<ipython-input-9-35045f9491d8>\u001b[0m in \u001b[0;36m<module>\u001b[1;34m\u001b[0m\n\u001b[0;32m      1\u001b[0m \u001b[0mlr\u001b[0m \u001b[1;33m=\u001b[0m \u001b[0mLogisticRegression\u001b[0m\u001b[1;33m(\u001b[0m\u001b[0mmaxIter\u001b[0m\u001b[1;33m=\u001b[0m\u001b[1;36m100\u001b[0m\u001b[1;33m)\u001b[0m\u001b[1;33m\u001b[0m\u001b[1;33m\u001b[0m\u001b[0m\n\u001b[1;32m----> 2\u001b[1;33m \u001b[0mlrModel\u001b[0m \u001b[1;33m=\u001b[0m \u001b[0mlr\u001b[0m\u001b[1;33m.\u001b[0m\u001b[0mfit\u001b[0m\u001b[1;33m(\u001b[0m\u001b[0mtrain_df\u001b[0m\u001b[1;33m)\u001b[0m\u001b[1;33m\u001b[0m\u001b[1;33m\u001b[0m\u001b[0m\n\u001b[0m\u001b[0;32m      3\u001b[0m \u001b[0mpredictions\u001b[0m \u001b[1;33m=\u001b[0m \u001b[0mlrModel\u001b[0m\u001b[1;33m.\u001b[0m\u001b[0mtransform\u001b[0m\u001b[1;33m(\u001b[0m\u001b[0mval_df\u001b[0m\u001b[1;33m)\u001b[0m\u001b[1;33m\u001b[0m\u001b[1;33m\u001b[0m\u001b[0m\n",
      "\u001b[1;32mC:\\ProgramData\\Anaconda3\\lib\\site-packages\\pyspark\\ml\\base.py\u001b[0m in \u001b[0;36mfit\u001b[1;34m(self, dataset, params)\u001b[0m\n\u001b[0;32m    130\u001b[0m                 \u001b[1;32mreturn\u001b[0m \u001b[0mself\u001b[0m\u001b[1;33m.\u001b[0m\u001b[0mcopy\u001b[0m\u001b[1;33m(\u001b[0m\u001b[0mparams\u001b[0m\u001b[1;33m)\u001b[0m\u001b[1;33m.\u001b[0m\u001b[0m_fit\u001b[0m\u001b[1;33m(\u001b[0m\u001b[0mdataset\u001b[0m\u001b[1;33m)\u001b[0m\u001b[1;33m\u001b[0m\u001b[1;33m\u001b[0m\u001b[0m\n\u001b[0;32m    131\u001b[0m             \u001b[1;32melse\u001b[0m\u001b[1;33m:\u001b[0m\u001b[1;33m\u001b[0m\u001b[1;33m\u001b[0m\u001b[0m\n\u001b[1;32m--> 132\u001b[1;33m                 \u001b[1;32mreturn\u001b[0m \u001b[0mself\u001b[0m\u001b[1;33m.\u001b[0m\u001b[0m_fit\u001b[0m\u001b[1;33m(\u001b[0m\u001b[0mdataset\u001b[0m\u001b[1;33m)\u001b[0m\u001b[1;33m\u001b[0m\u001b[1;33m\u001b[0m\u001b[0m\n\u001b[0m\u001b[0;32m    133\u001b[0m         \u001b[1;32melse\u001b[0m\u001b[1;33m:\u001b[0m\u001b[1;33m\u001b[0m\u001b[1;33m\u001b[0m\u001b[0m\n\u001b[0;32m    134\u001b[0m             raise ValueError(\"Params must be either a param map or a list/tuple of param maps, \"\n",
      "\u001b[1;32mC:\\ProgramData\\Anaconda3\\lib\\site-packages\\pyspark\\ml\\wrapper.py\u001b[0m in \u001b[0;36m_fit\u001b[1;34m(self, dataset)\u001b[0m\n\u001b[0;32m    293\u001b[0m \u001b[1;33m\u001b[0m\u001b[0m\n\u001b[0;32m    294\u001b[0m     \u001b[1;32mdef\u001b[0m \u001b[0m_fit\u001b[0m\u001b[1;33m(\u001b[0m\u001b[0mself\u001b[0m\u001b[1;33m,\u001b[0m \u001b[0mdataset\u001b[0m\u001b[1;33m)\u001b[0m\u001b[1;33m:\u001b[0m\u001b[1;33m\u001b[0m\u001b[1;33m\u001b[0m\u001b[0m\n\u001b[1;32m--> 295\u001b[1;33m         \u001b[0mjava_model\u001b[0m \u001b[1;33m=\u001b[0m \u001b[0mself\u001b[0m\u001b[1;33m.\u001b[0m\u001b[0m_fit_java\u001b[0m\u001b[1;33m(\u001b[0m\u001b[0mdataset\u001b[0m\u001b[1;33m)\u001b[0m\u001b[1;33m\u001b[0m\u001b[1;33m\u001b[0m\u001b[0m\n\u001b[0m\u001b[0;32m    296\u001b[0m         \u001b[0mmodel\u001b[0m \u001b[1;33m=\u001b[0m \u001b[0mself\u001b[0m\u001b[1;33m.\u001b[0m\u001b[0m_create_model\u001b[0m\u001b[1;33m(\u001b[0m\u001b[0mjava_model\u001b[0m\u001b[1;33m)\u001b[0m\u001b[1;33m\u001b[0m\u001b[1;33m\u001b[0m\u001b[0m\n\u001b[0;32m    297\u001b[0m         \u001b[1;32mreturn\u001b[0m \u001b[0mself\u001b[0m\u001b[1;33m.\u001b[0m\u001b[0m_copyValues\u001b[0m\u001b[1;33m(\u001b[0m\u001b[0mmodel\u001b[0m\u001b[1;33m)\u001b[0m\u001b[1;33m\u001b[0m\u001b[1;33m\u001b[0m\u001b[0m\n",
      "\u001b[1;32mC:\\ProgramData\\Anaconda3\\lib\\site-packages\\pyspark\\ml\\wrapper.py\u001b[0m in \u001b[0;36m_fit_java\u001b[1;34m(self, dataset)\u001b[0m\n\u001b[0;32m    290\u001b[0m         \"\"\"\n\u001b[0;32m    291\u001b[0m         \u001b[0mself\u001b[0m\u001b[1;33m.\u001b[0m\u001b[0m_transfer_params_to_java\u001b[0m\u001b[1;33m(\u001b[0m\u001b[1;33m)\u001b[0m\u001b[1;33m\u001b[0m\u001b[1;33m\u001b[0m\u001b[0m\n\u001b[1;32m--> 292\u001b[1;33m         \u001b[1;32mreturn\u001b[0m \u001b[0mself\u001b[0m\u001b[1;33m.\u001b[0m\u001b[0m_java_obj\u001b[0m\u001b[1;33m.\u001b[0m\u001b[0mfit\u001b[0m\u001b[1;33m(\u001b[0m\u001b[0mdataset\u001b[0m\u001b[1;33m.\u001b[0m\u001b[0m_jdf\u001b[0m\u001b[1;33m)\u001b[0m\u001b[1;33m\u001b[0m\u001b[1;33m\u001b[0m\u001b[0m\n\u001b[0m\u001b[0;32m    293\u001b[0m \u001b[1;33m\u001b[0m\u001b[0m\n\u001b[0;32m    294\u001b[0m     \u001b[1;32mdef\u001b[0m \u001b[0m_fit\u001b[0m\u001b[1;33m(\u001b[0m\u001b[0mself\u001b[0m\u001b[1;33m,\u001b[0m \u001b[0mdataset\u001b[0m\u001b[1;33m)\u001b[0m\u001b[1;33m:\u001b[0m\u001b[1;33m\u001b[0m\u001b[1;33m\u001b[0m\u001b[0m\n",
      "\u001b[1;32mC:\\ProgramData\\Anaconda3\\lib\\site-packages\\py4j\\java_gateway.py\u001b[0m in \u001b[0;36m__call__\u001b[1;34m(self, *args)\u001b[0m\n\u001b[0;32m   1255\u001b[0m         \u001b[0manswer\u001b[0m \u001b[1;33m=\u001b[0m \u001b[0mself\u001b[0m\u001b[1;33m.\u001b[0m\u001b[0mgateway_client\u001b[0m\u001b[1;33m.\u001b[0m\u001b[0msend_command\u001b[0m\u001b[1;33m(\u001b[0m\u001b[0mcommand\u001b[0m\u001b[1;33m)\u001b[0m\u001b[1;33m\u001b[0m\u001b[1;33m\u001b[0m\u001b[0m\n\u001b[0;32m   1256\u001b[0m         return_value = get_return_value(\n\u001b[1;32m-> 1257\u001b[1;33m             answer, self.gateway_client, self.target_id, self.name)\n\u001b[0m\u001b[0;32m   1258\u001b[0m \u001b[1;33m\u001b[0m\u001b[0m\n\u001b[0;32m   1259\u001b[0m         \u001b[1;32mfor\u001b[0m \u001b[0mtemp_arg\u001b[0m \u001b[1;32min\u001b[0m \u001b[0mtemp_args\u001b[0m\u001b[1;33m:\u001b[0m\u001b[1;33m\u001b[0m\u001b[1;33m\u001b[0m\u001b[0m\n",
      "\u001b[1;32mC:\\ProgramData\\Anaconda3\\lib\\site-packages\\pyspark\\sql\\utils.py\u001b[0m in \u001b[0;36mdeco\u001b[1;34m(*a, **kw)\u001b[0m\n\u001b[0;32m     61\u001b[0m     \u001b[1;32mdef\u001b[0m \u001b[0mdeco\u001b[0m\u001b[1;33m(\u001b[0m\u001b[1;33m*\u001b[0m\u001b[0ma\u001b[0m\u001b[1;33m,\u001b[0m \u001b[1;33m**\u001b[0m\u001b[0mkw\u001b[0m\u001b[1;33m)\u001b[0m\u001b[1;33m:\u001b[0m\u001b[1;33m\u001b[0m\u001b[1;33m\u001b[0m\u001b[0m\n\u001b[0;32m     62\u001b[0m         \u001b[1;32mtry\u001b[0m\u001b[1;33m:\u001b[0m\u001b[1;33m\u001b[0m\u001b[1;33m\u001b[0m\u001b[0m\n\u001b[1;32m---> 63\u001b[1;33m             \u001b[1;32mreturn\u001b[0m \u001b[0mf\u001b[0m\u001b[1;33m(\u001b[0m\u001b[1;33m*\u001b[0m\u001b[0ma\u001b[0m\u001b[1;33m,\u001b[0m \u001b[1;33m**\u001b[0m\u001b[0mkw\u001b[0m\u001b[1;33m)\u001b[0m\u001b[1;33m\u001b[0m\u001b[1;33m\u001b[0m\u001b[0m\n\u001b[0m\u001b[0;32m     64\u001b[0m         \u001b[1;32mexcept\u001b[0m \u001b[0mpy4j\u001b[0m\u001b[1;33m.\u001b[0m\u001b[0mprotocol\u001b[0m\u001b[1;33m.\u001b[0m\u001b[0mPy4JJavaError\u001b[0m \u001b[1;32mas\u001b[0m \u001b[0me\u001b[0m\u001b[1;33m:\u001b[0m\u001b[1;33m\u001b[0m\u001b[1;33m\u001b[0m\u001b[0m\n\u001b[0;32m     65\u001b[0m             \u001b[0ms\u001b[0m \u001b[1;33m=\u001b[0m \u001b[0me\u001b[0m\u001b[1;33m.\u001b[0m\u001b[0mjava_exception\u001b[0m\u001b[1;33m.\u001b[0m\u001b[0mtoString\u001b[0m\u001b[1;33m(\u001b[0m\u001b[1;33m)\u001b[0m\u001b[1;33m\u001b[0m\u001b[1;33m\u001b[0m\u001b[0m\n",
      "\u001b[1;32mC:\\ProgramData\\Anaconda3\\lib\\site-packages\\py4j\\protocol.py\u001b[0m in \u001b[0;36mget_return_value\u001b[1;34m(answer, gateway_client, target_id, name)\u001b[0m\n\u001b[0;32m    326\u001b[0m                 raise Py4JJavaError(\n\u001b[0;32m    327\u001b[0m                     \u001b[1;34m\"An error occurred while calling {0}{1}{2}.\\n\"\u001b[0m\u001b[1;33m.\u001b[0m\u001b[1;33m\u001b[0m\u001b[1;33m\u001b[0m\u001b[0m\n\u001b[1;32m--> 328\u001b[1;33m                     format(target_id, \".\", name), value)\n\u001b[0m\u001b[0;32m    329\u001b[0m             \u001b[1;32melse\u001b[0m\u001b[1;33m:\u001b[0m\u001b[1;33m\u001b[0m\u001b[1;33m\u001b[0m\u001b[0m\n\u001b[0;32m    330\u001b[0m                 raise Py4JError(\n",
      "\u001b[1;31mPy4JJavaError\u001b[0m: An error occurred while calling o269.fit.\n: java.lang.OutOfMemoryError: Java heap space\r\n\tat org.apache.spark.ml.linalg.DenseMatrix$.zeros(Matrices.scala:492)\r\n\tat org.apache.spark.ml.linalg.Matrices$.zeros(Matrices.scala:1067)\r\n\tat org.apache.spark.ml.classification.LogisticRegression$$anonfun$train$1.apply(LogisticRegression.scala:706)\r\n\tat org.apache.spark.ml.classification.LogisticRegression$$anonfun$train$1.apply(LogisticRegression.scala:494)\r\n\tat org.apache.spark.ml.util.Instrumentation$$anonfun$11.apply(Instrumentation.scala:183)\r\n\tat scala.util.Try$.apply(Try.scala:192)\r\n\tat org.apache.spark.ml.util.Instrumentation$.instrumented(Instrumentation.scala:183)\r\n\tat org.apache.spark.ml.classification.LogisticRegression.train(LogisticRegression.scala:494)\r\n\tat org.apache.spark.ml.classification.LogisticRegression.train(LogisticRegression.scala:489)\r\n\tat org.apache.spark.ml.classification.LogisticRegression.train(LogisticRegression.scala:279)\r\n\tat org.apache.spark.ml.Predictor.fit(Predictor.scala:118)\r\n\tat org.apache.spark.ml.Predictor.fit(Predictor.scala:82)\r\n\tat sun.reflect.NativeMethodAccessorImpl.invoke0(Native Method)\r\n\tat sun.reflect.NativeMethodAccessorImpl.invoke(NativeMethodAccessorImpl.java:62)\r\n\tat sun.reflect.DelegatingMethodAccessorImpl.invoke(DelegatingMethodAccessorImpl.java:43)\r\n\tat java.lang.reflect.Method.invoke(Method.java:498)\r\n\tat py4j.reflection.MethodInvoker.invoke(MethodInvoker.java:244)\r\n\tat py4j.reflection.ReflectionEngine.invoke(ReflectionEngine.java:357)\r\n\tat py4j.Gateway.invoke(Gateway.java:282)\r\n\tat py4j.commands.AbstractCommand.invokeMethod(AbstractCommand.java:132)\r\n\tat py4j.commands.CallCommand.execute(CallCommand.java:79)\r\n\tat py4j.GatewayConnection.run(GatewayConnection.java:238)\r\n\tat java.lang.Thread.run(Thread.java:748)\r\n"
     ]
    }
   ],
   "source": [
    "lr = LogisticRegression(maxIter=100)\n",
    "lrModel = lr.fit(train_df)\n",
    "predictions = lrModel.transform(val_df)"
   ]
  },
  {
   "cell_type": "code",
   "execution_count": null,
   "metadata": {},
   "outputs": [],
   "source": [
    "evaluator = BinaryClassificationEvaluator(rawPredictionCol=\"rawPrediction\")\n",
    "evaluator.evaluate(predictions)"
   ]
  },
  {
   "cell_type": "code",
   "execution_count": null,
   "metadata": {},
   "outputs": [],
   "source": [
    "accuracy = predictions.filter(predictions.label == predictions.prediction).count() / float(val_set.count())\n",
    "accuracy"
   ]
  },
  {
   "cell_type": "code",
   "execution_count": null,
   "metadata": {},
   "outputs": [],
   "source": []
  }
 ],
 "metadata": {
  "kernelspec": {
   "display_name": "Python 3",
   "language": "python",
   "name": "python3"
  },
  "language_info": {
   "codemirror_mode": {
    "name": "ipython",
    "version": 3
   },
   "file_extension": ".py",
   "mimetype": "text/x-python",
   "name": "python",
   "nbconvert_exporter": "python",
   "pygments_lexer": "ipython3",
   "version": "3.7.3"
  }
 },
 "nbformat": 4,
 "nbformat_minor": 2
}
